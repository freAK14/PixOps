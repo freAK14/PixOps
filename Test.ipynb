{
 "cells": [
  {
   "cell_type": "code",
   "execution_count": 1,
   "id": "b8b886a4",
   "metadata": {},
   "outputs": [
    {
     "output_type": "stream",
     "name": "stderr",
     "text": [
      "C:\\Users\\Appa\\AppData\\Local\\Programs\\Python\\Python38\\lib\\site-packages\\numpy\\_distributor_init.py:30: UserWarning: loaded more than 1 DLL from .libs:\nC:\\Users\\Appa\\AppData\\Local\\Programs\\Python\\Python38\\lib\\site-packages\\numpy\\.libs\\libopenblas.QVLO2T66WEPI7JZ63PS3HMOHFEY472BC.gfortran-win_amd64.dll\nC:\\Users\\Appa\\AppData\\Local\\Programs\\Python\\Python38\\lib\\site-packages\\numpy\\.libs\\libopenblas.XWYDX2IKJW2NMTWSFYNGFUWKQU3LYTCZ.gfortran-win_amd64.dll\n  warnings.warn(\"loaded more than 1 DLL from .libs:\"\n"
     ]
    }
   ],
   "source": [
    "from PixOps import super_resolution"
   ]
  },
  {
   "cell_type": "code",
   "execution_count": 3,
   "id": "4c318e3c",
   "metadata": {},
   "outputs": [],
   "source": [
    "obj1 = super_resolution()"
   ]
  },
  {
   "cell_type": "code",
   "execution_count": 5,
   "id": "7ad40bb0",
   "metadata": {
    "scrolled": true
   },
   "outputs": [],
   "source": [
    "obj1.gen_sr(\"demo_images/0.png\")"
   ]
  }
 ],
 "metadata": {
  "kernelspec": {
   "name": "python3",
   "display_name": "Python 3.8.7 64-bit"
  },
  "language_info": {
   "codemirror_mode": {
    "name": "ipython",
    "version": 3
   },
   "file_extension": ".py",
   "mimetype": "text/x-python",
   "name": "python",
   "nbconvert_exporter": "python",
   "pygments_lexer": "ipython3",
   "version": "3.8.7"
  },
  "interpreter": {
   "hash": "bfa4de2f06cea62df3a8035827616c33b21703bb593eb425d4045ebf784f1be1"
  }
 },
 "nbformat": 4,
 "nbformat_minor": 5
}
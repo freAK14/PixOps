{
 "cells": [
  {
   "cell_type": "markdown",
   "id": "e3c044b7",
   "metadata": {},
   "source": [
    "# Super Resolution"
   ]
  },
  {
   "cell_type": "code",
   "execution_count": 1,
   "id": "b8b886a4",
   "metadata": {},
   "outputs": [],
   "source": [
    "from PixOps import super_resolution"
   ]
  },
  {
   "cell_type": "code",
   "execution_count": 2,
   "id": "4c318e3c",
   "metadata": {},
   "outputs": [],
   "source": [
    "obj1 = super_resolution()"
   ]
  },
  {
   "cell_type": "code",
   "execution_count": 3,
   "id": "7ad40bb0",
   "metadata": {
    "scrolled": true
   },
   "outputs": [],
   "source": [
    "obj1.gen_sr(\"demo_images/0.png\")"
   ]
  },
  {
   "cell_type": "code",
   "execution_count": null,
   "id": "99044af7",
   "metadata": {},
   "outputs": [],
   "source": []
  },
  {
   "cell_type": "markdown",
   "id": "23c166dd",
   "metadata": {},
   "source": [
    "# Colorization "
   ]
  },
  {
   "cell_type": "code",
   "execution_count": 1,
   "id": "e0ff82e8",
   "metadata": {},
   "outputs": [],
   "source": [
    "from PixOps import colorization"
   ]
  },
  {
   "cell_type": "code",
   "execution_count": 2,
   "id": "28c23aaa",
   "metadata": {},
   "outputs": [],
   "source": [
    "obj2 = colorization()"
   ]
  },
  {
   "cell_type": "code",
   "execution_count": 4,
   "id": "15ab144f",
   "metadata": {},
   "outputs": [],
   "source": [
    "obj2.color(\"demo_images/color/1.jpg\")"
   ]
  },
  {
   "cell_type": "markdown",
   "id": "df14eb5b",
   "metadata": {},
   "source": [
    "# Style Transfer"
   ]
  },
  {
   "cell_type": "code",
   "execution_count": 1,
   "id": "bccadf02",
   "metadata": {},
   "outputs": [],
   "source": [
    "from PixOps import style_transfer"
   ]
  },
  {
   "cell_type": "code",
   "execution_count": 2,
   "id": "3d176aad",
   "metadata": {},
   "outputs": [],
   "source": [
    "obj3 = style_transfer()"
   ]
  },
  {
   "cell_type": "code",
   "execution_count": 4,
   "id": "1fc5dac0",
   "metadata": {},
   "outputs": [],
   "source": [
    "obj3.transfer(\"demo_images/input/in13.png\", \"demo_images/style/tar13.png\")"
   ]
  },
  {
   "cell_type": "code",
   "execution_count": null,
   "id": "9d249c12",
   "metadata": {},
   "outputs": [],
   "source": []
  }
 ],
 "metadata": {
  "interpreter": {
   "hash": "bfa4de2f06cea62df3a8035827616c33b21703bb593eb425d4045ebf784f1be1"
  },
  "kernelspec": {
   "display_name": "Python 3",
   "language": "python",
   "name": "python3"
  },
  "language_info": {
   "codemirror_mode": {
    "name": "ipython",
    "version": 3
   },
   "file_extension": ".py",
   "mimetype": "text/x-python",
   "name": "python",
   "nbconvert_exporter": "python",
   "pygments_lexer": "ipython3",
   "version": "3.6.13"
  }
 },
 "nbformat": 4,
 "nbformat_minor": 5
}
